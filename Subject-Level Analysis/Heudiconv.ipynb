{
 "cells": [
  {
   "cell_type": "code",
   "execution_count": null,
   "metadata": {
    "collapsed": true
   },
   "outputs": [],
   "source": [
    "singularity pull docker://nipy/heudiconv:latest"
   ]
  },
  {
   "cell_type": "code",
   "execution_count": null,
   "metadata": {
    "collapsed": true
   },
   "outputs": [],
   "source": [
    "# Get scan information and a heuristic template\n",
    "\n",
    "singularity run \\\n",
    "-H ~/.singularity \\\n",
    "-B /Shared/oleary/:/hpc \\\n",
    "/Users/tientong/heudiconv-latest.simg \\\n",
    "-d /hpc/functional/UICL/dicomdata/{subject}/{session}/*/*.dcm \\\n",
    "-s 5002 \\\n",
    "-ss 64157414 \\\n",
    "-f convertall \\\n",
    "-c none \\\n",
    "-o /hpc/functional/UICL/BIDS\n",
    "\n",
    "# everything will be store in /hpc/functional/UICL/BIDS/.heudiconv"
   ]
  },
  {
   "cell_type": "markdown",
   "metadata": {},
   "source": [
    "Edit the heuristic file, saved to `heudiconv/convert.py`"
   ]
  },
  {
   "cell_type": "code",
   "execution_count": null,
   "metadata": {
    "collapsed": true
   },
   "outputs": [],
   "source": [
    "# run heudiconv for single subject\n",
    "\n",
    "singularity run \\\n",
    "-H ~/.singularity \\\n",
    "-B /Shared/oleary/:/hpc \\\n",
    "/Users/tientong/heudiconv-latest.simg \\\n",
    "-d /hpc/functional/UICL/dicomdata/{subject}/{session}/*/64157414*.dcm \\\n",
    "-s 5002 \\\n",
    "-ss 64157414 \\\n",
    "-f /hpc/functional/UICL/BIDS/code/heudiconv/convert.py `# place where I saved the edited heuristic converter` \\\n",
    "-c dcm2niix -b `# converter I want to use (into bids format)` \\\n",
    "-o /hpc/functional/UICL/BIDS"
   ]
  },
  {
   "cell_type": "code",
   "execution_count": null,
   "metadata": {},
   "outputs": [],
   "source": [
    "singularity run \\\n",
    "-H ~/.singularity \\\n",
    "-B /Shared/oleary/:/hpc \\\n",
    "/Users/tientong/heudiconv-latest.simg \\\n",
    "-d /hpc/functional/UICL/dicomdata/{subject}/{session}/*/*.dcm \\\n",
    "-s 3188 \\\n",
    "-ss 60898816 \\\n",
    "-f /hpc/functional/UICL/BIDS/.heudiconv/3188/ses-60898816/info/convert.py `# place where I saved the edited heuristic converter` \\\n",
    "-c dcm2niix -b `# converter I want to use (into bids format)` \\\n",
    "-o /hpc/functional/UICL/BIDS/rawdata"
   ]
  },
  {
   "cell_type": "markdown",
   "metadata": {},
   "source": [
    "# Time 2  = 119 subjects\n",
    "\n",
    "First get the list of subject id and session number\n",
    "\n",
    "`/Shared/oleary/functional/UICL/BIDS/code/time2/time2_id.txt` = list of all subjects had \"gender time 2\" data in the SPSS file\n",
    "\n",
    "Then, use the code below to get session id (both time 1 and time 2) for those subjects (who had gender time 2 data) -- echo to a text file named `time1time2_id.txt`"
   ]
  },
  {
   "cell_type": "code",
   "execution_count": null,
   "metadata": {},
   "outputs": [],
   "source": [
    "%%bash\n",
    "for sub in $(cat /Shared/oleary/functional/UICL/BIDS/code/time2/time2_id.txt | tr \"\\n\" \" \") ; do\n",
    "    for i in /Shared/oleary/functional/UICL/dicomdata/$sub/[0-9]* ; do \n",
    "        ses=(`echo $i | awk '{gsub(\"/\",\" \"); print $7}'`)\n",
    "        echo ${sub}_${ses} >> time1time2_id.txt\n",
    "    done\n",
    "done"
   ]
  },
  {
   "cell_type": "markdown",
   "metadata": {},
   "source": [
    "### Issue 1: Find the list of sub and ses for Time 2 data\n",
    "\n",
    "Run this:\n",
    "\n",
    "`/Shared/oleary/functional/UICL/BIDS/code/time2/gett2session.Rmd`\n",
    "\n",
    "to get the session numbers of time 2, the list printed in this txt file \n",
    "\n",
    "`/Shared/oleary/functional/UICL/BIDS/code/time2/time2_idses.txt`\n",
    "\n",
    "\n",
    "### Issue 2: For some subjects, ses included both corrected and uncorrected dicoms\n",
    "\n",
    "this is post-processing done automatically. E.g., 3011 \n",
    "\n",
    "`/Shared/oleary/functional/UICL/dicomdata/3011/63029716/T2_013/`\n",
    "\n",
    "and\n",
    "\n",
    "`/Shared/oleary/functional/UICL/dicomdata/3011/63029716/T2_1300/`\n",
    "\n",
    "have to get rid of the ones with the bigger number (uncorrected).\n",
    "\n",
    "First, get a list of all scans from all 119 people"
   ]
  },
  {
   "cell_type": "code",
   "execution_count": null,
   "metadata": {},
   "outputs": [],
   "source": [
    "%%bash\n",
    "\n",
    "sub=($(awk '{print $2}' /Shared/oleary/functional/UICL/BIDS/code/time2/time2_idses.txt))\n",
    "ses=($(awk '{print $3}' /Shared/oleary/functional/UICL/BIDS/code/time2/time2_idses.txt))\n",
    "\n",
    "for n in `seq -s \" \" 0 1 118` ; do\n",
    "\n",
    "    ls -d /Shared/oleary/functional/UICL/dicomdata/${sub[$n]}/${ses[$n]}/*/ >> /oleary/functional/UICL/BIDS/code/time2/allscanslist.txt\n",
    "\n",
    "done"
   ]
  },
  {
   "cell_type": "markdown",
   "metadata": {},
   "source": [
    "Then, run `/oleary/functional/UICL/BIDS/code/time2/move_extrascans.R` to move extra scans to `/Shared/oleary/functional/UICL/dicomdata/extra`.\n",
    "\n",
    "# Back to Heudiconv\n",
    "\n",
    "Create the template script below, which can be used to generate subject specific script"
   ]
  },
  {
   "cell_type": "code",
   "execution_count": null,
   "metadata": {},
   "outputs": [],
   "source": [
    "%%bash\n",
    "\n",
    "#!/bin/bash\n",
    "\n",
    "subject_log=/Shared/oleary/functional/UICL/BIDS/code/time2/heudiconvT2_log/SUBJECT_SESSION.txt\n",
    "\n",
    "echo '#--------------------------------------------------------------------------------' >> ${subject_log}\n",
    "\n",
    "singularity run \\\n",
    "-H /Users/tientong/.singularity \\\n",
    "-B /Shared/oleary/:/hpc \\\n",
    "/Users/tientong/heudiconv-latest.simg \\\n",
    "-d /Shared/oleary/functional/UICL/dicomdata/{subject}/{session}/*/*.dcm \\\n",
    "-s SUBJECT \\\n",
    "-ss SESSION \\\n",
    "-f /Shared/oleary/functional/UICL/BIDS/code/heudiconv/convert.py \\\n",
    "-c dcm2niix -b \\\n",
    "-o /Shared/oleary/functional/UICL/BIDS/time2 2>&1 | tee ${subject_log}\n",
    "\n",
    "date +\"end_time: %Y-%m-%d_%H-%M-%S\" >> ${subject_log}\n",
    "echo '' >> ${subject_log}\n"
   ]
  },
  {
   "cell_type": "markdown",
   "metadata": {},
   "source": [
    "use `sed` to replace placeholders with actual subject id and sessions to create subject specific script"
   ]
  },
  {
   "cell_type": "code",
   "execution_count": null,
   "metadata": {},
   "outputs": [],
   "source": [
    "%%bash\n",
    "\n",
    "sub=($(awk '{print $2}' /Shared/oleary/functional/UICL/BIDS/code/time2/time2_idses.txt))\n",
    "ses=($(awk '{print $3}' /Shared/oleary/functional/UICL/BIDS/code/time2/time2_idses.txt))\n",
    "\n",
    "for n in `seq -s \" \" 0 1 118` ; do\n",
    "    sed -e \"s|SUBJECT|${sub[$n]}|\" -e \"s|SESSION|${ses[$n]}|\" heudiconv_TEMPLATE.sh > heudiconv_sub-${sub[$n]}_ses-${ses[$n]}.sh\n",
    "done"
   ]
  },
  {
   "cell_type": "markdown",
   "metadata": {},
   "source": [
    "run multiple scripts:\n",
    "\n",
    "`ls heudiconv_sub* | xargs -i{} -P5 sh {}`"
   ]
  },
  {
   "cell_type": "markdown",
   "metadata": {},
   "source": [
    "### Issue 3: data from multiple scanners - GE and siemens\n",
    "\n",
    "have to make a different heuristic\n",
    "\n",
    "`/Shared/oleary/functional/UICL/BIDS/code/heudiconv/convert2.py`"
   ]
  },
  {
   "cell_type": "code",
   "execution_count": null,
   "metadata": {},
   "outputs": [],
   "source": [
    "%%bash\n",
    "\n",
    "# job submission on Argon cluster for all subject-specific heudiconv\n",
    "\n",
    "sub=($(awk '{print $2}' /Shared/oleary/functional/UICL/BIDS/code/time2/time2_idses_group2.txt))\n",
    "ses=($(awk '{print $3}' /Shared/oleary/functional/UICL/BIDS/code/time2/time2_idses_group2.txt))\n",
    "\n",
    "for n in `seq -s \" \" 0 1 97` ; do\n",
    "    sed -e \"s|SUBJECT|${sub[$n]}|\" -e \"s|SESSION|${ses[$n]}|\" heudiconv_TEMPLATE.sh > heudiconv_sub-${sub[$n]}_ses-${ses[$n]}.sh\n",
    "    qsub heudiconv_sub-${sub[$n]}_ses-${ses[$n]}.sh\n",
    "done"
   ]
  },
  {
   "cell_type": "code",
   "execution_count": null,
   "metadata": {},
   "outputs": [],
   "source": []
  },
  {
   "cell_type": "markdown",
   "metadata": {},
   "source": [
    "## For resting state time 2\n",
    "\n",
    "has to use /Shared/oleary/functional/UICL/BIDS/code/heudiconv/convert3.py for Siemens scans"
   ]
  },
  {
   "cell_type": "code",
   "execution_count": 114,
   "metadata": {
    "scrolled": false
   },
   "outputs": [],
   "source": [
    "# find subjects scanned with siemens\n",
    "\n",
    "import pandas as pd\n",
    "\n",
    "time2 = pd.read_csv('/Shared/oleary/functional/UICL/BIDS/code/time2/time2_idses.txt', \n",
    "                    sep=\" \", header = None)\n",
    "ge = pd.read_csv('/Shared/oleary/functional/UICL/BIDS/code/time2/time2_idses_group2.txt', \n",
    "                 sep=\" \", header = None)\n",
    "\n",
    "siemens = pd.concat([time2,ge]).drop_duplicates(keep=False)\n",
    "\n",
    "fullsample_sub = pd.read_csv('/Shared/oleary/functional/UICL/BIDS/subject_list/allsub.txt', header = None)\n",
    "fullsample_ses = pd.read_csv('/Shared/oleary/functional/UICL/BIDS/subject_list/session1.txt', header = None)\n",
    "fullsample = pd.merge(fullsample_sub, fullsample_ses, left_index=True, right_index=True)\n",
    "fullsample.to_csv('/Shared/oleary/functional/UICL/BIDS/subject_list/allsub_session1.txt', \n",
    "               sep='\\t', index = False, header = False)\n",
    "\n",
    "time1only = fullsample[-fullsample['0_x'].isin(time2[1])].reset_index(drop=True)\n",
    "time1only.to_csv('/Shared/oleary/functional/UICL/BIDS/subject_list/time1only.txt', \n",
    "               sep='\\t', index = False, header = False)\n",
    "\n",
    "\n",
    "siemens.columns = ['id_time2','id','time2']\n",
    "siemens.reset_index(inplace=True, drop=True)\n",
    "siemenstime1 = fullsample[fullsample['0_x'].isin(siemens['id'])]['0_y']\n",
    "siemenstime1.reset_index(inplace=True, drop=True)\n",
    "siemens['time1'] = siemenstime1\n",
    "siemens.to_csv('/Shared/oleary/functional/UICL/BIDS/code/time2/time2_idses_siemens.txt', \n",
    "               sep='\\t', index = False, header = False)\n",
    "\n",
    "ge.columns = ['id_time2','id','time2']\n",
    "getime1 = fullsample[fullsample['0_x'].isin(ge['id'])]['0_y']\n",
    "getime1.reset_index(inplace=True, drop=True)\n",
    "ge['time1'] = getime1\n",
    "ge.to_csv('/Shared/oleary/functional/UICL/BIDS/code/time2/ge_time1time2.txt', \n",
    "               sep='\\t', index = False, header = False)\n",
    "\n",
    "time2 = pd.merge(ge, siemens,how='outer')\n",
    "time2.to_csv('/Shared/oleary/functional/UICL/BIDS/code/time2/alltime2.txt', \n",
    "               sep='\\t', index = False, header = False)"
   ]
  },
  {
   "cell_type": "markdown",
   "metadata": {},
   "source": [
    "run the `get_slice_time.py` script to get the slice timing information for GE scanner.\n",
    "\n",
    "```\n",
    "usage: python /path/to/get_slice_time.py /path/to/dicom/pattern* /out/path\n",
    "\n",
    "python /Shared/oleary/functional/UICL/BIDS/code/get_slice_time.py \"/Shared/oleary/functional/UICL/dicomdata/3040/63910816/FMRI_004/63910816_004_*\" \"/Shared/oleary/functional/UICL/BIDS/code/time2/\"\n",
    "\n",
    "```"
   ]
  },
  {
   "cell_type": "code",
   "execution_count": null,
   "metadata": {},
   "outputs": [],
   "source": [
    "\n"
   ]
  },
  {
   "cell_type": "code",
   "execution_count": null,
   "metadata": {},
   "outputs": [],
   "source": [
    "\n"
   ]
  },
  {
   "cell_type": "code",
   "execution_count": null,
   "metadata": {},
   "outputs": [],
   "source": []
  },
  {
   "cell_type": "code",
   "execution_count": 107,
   "metadata": {},
   "outputs": [
    {
     "name": "stdout",
     "output_type": "stream",
     "text": [
      "60913814\n",
      "64069714\n",
      "64182514\n",
      "64184914\n",
      "64066514\n",
      "64559714\n",
      "64444714\n",
      "64558514\n",
      "64459014\n",
      "64744514\n",
      "64977014\n",
      "64645914\n",
      "64572314\n",
      "64747014\n",
      "65047514\n",
      "64975114\n",
      "64990514\n",
      "65147714\n",
      "65060914\n",
      "65076014\n",
      "60223115\n",
      "65062714\n",
      "65248914\n",
      "60093215\n",
      "60527515\n",
      "60498815\n",
      "60628415\n",
      "60483615\n",
      "60512015\n",
      "60597115\n",
      "60595615\n",
      "60700715\n",
      "60540315\n",
      "60585615\n",
      "60926915\n",
      "61045415\n",
      "60801315\n",
      "60712915\n",
      "60743615\n",
      "60900715\n",
      "60930815\n",
      "61027015\n",
      "61348315\n",
      "61231215\n",
      "61290115\n",
      "61017415\n",
      "61333815\n",
      "61230315\n",
      "61491515\n",
      "61346915\n",
      "61388015\n",
      "61535415\n",
      "61705915\n",
      "61895515\n",
      "61835415\n",
      "61822415\n",
      "61907115\n",
      "63764115\n",
      "63937815\n",
      "63853815\n",
      "63739515\n",
      "63710315\n",
      "64040415\n",
      "63825815\n",
      "64012615\n",
      "64128115\n",
      "64153315\n",
      "64154215\n",
      "63868015\n",
      "64069515\n",
      "64356315\n",
      "64573115\n",
      "64457015\n",
      "64917015\n",
      "64632215\n",
      "64470115\n",
      "65050315\n",
      "64859015\n",
      "64948715\n",
      "64861115\n",
      "65061515\n",
      "60511116\n",
      "60585716\n",
      "60667716\n",
      "60683216\n",
      "60815816\n",
      "60700916\n",
      "60900316\n",
      "60898816\n",
      "61101116\n",
      "61636716\n",
      "61680116\n",
      "61835516\n",
      "61722516\n",
      "61823616\n",
      "61837616\n",
      "61924316\n",
      "61936216\n"
     ]
    }
   ],
   "source": [
    "%%bash\n",
    "subid=($(cut -f4 /Shared/oleary/functional/UICL/BIDS/code/time2/ge_time1time2.txt))\n",
    "for i in ${!subid[@]}; do echo ${subid[$i]}; done"
   ]
  },
  {
   "cell_type": "code",
   "execution_count": null,
   "metadata": {},
   "outputs": [],
   "source": []
  },
  {
   "cell_type": "code",
   "execution_count": null,
   "metadata": {},
   "outputs": [],
   "source": []
  },
  {
   "cell_type": "code",
   "execution_count": null,
   "metadata": {},
   "outputs": [],
   "source": []
  },
  {
   "cell_type": "code",
   "execution_count": null,
   "metadata": {},
   "outputs": [],
   "source": []
  }
 ],
 "metadata": {
  "kernelspec": {
   "display_name": "Python 3",
   "language": "python",
   "name": "python3"
  },
  "language_info": {
   "codemirror_mode": {
    "name": "ipython",
    "version": 3
   },
   "file_extension": ".py",
   "mimetype": "text/x-python",
   "name": "python",
   "nbconvert_exporter": "python",
   "pygments_lexer": "ipython3",
   "version": "3.7.2"
  }
 },
 "nbformat": 4,
 "nbformat_minor": 2
}
